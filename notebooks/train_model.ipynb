{
 "cells": [
  {
   "cell_type": "code",
   "execution_count": 2,
   "id": "489439b0",
   "metadata": {},
   "outputs": [],
   "source": [
    "import pandas as pd\n",
    "from sklearn.datasets import make_classification\n"
   ]
  },
  {
   "cell_type": "code",
   "execution_count": null,
   "id": "02b8081b",
   "metadata": {},
   "outputs": [
    {
     "data": {
      "text/html": [
       "<div>\n",
       "<style scoped>\n",
       "    .dataframe tbody tr th:only-of-type {\n",
       "        vertical-align: middle;\n",
       "    }\n",
       "\n",
       "    .dataframe tbody tr th {\n",
       "        vertical-align: top;\n",
       "    }\n",
       "\n",
       "    .dataframe thead th {\n",
       "        text-align: right;\n",
       "    }\n",
       "</style>\n",
       "<table border=\"1\" class=\"dataframe\">\n",
       "  <thead>\n",
       "    <tr style=\"text-align: right;\">\n",
       "      <th></th>\n",
       "      <th>feature0</th>\n",
       "      <th>feature1</th>\n",
       "      <th>feature2</th>\n",
       "      <th>feature3</th>\n",
       "      <th>feature4</th>\n",
       "      <th>feature5</th>\n",
       "      <th>feature6</th>\n",
       "      <th>feature7</th>\n",
       "      <th>feature8</th>\n",
       "      <th>feature9</th>\n",
       "      <th>label</th>\n",
       "    </tr>\n",
       "  </thead>\n",
       "  <tbody>\n",
       "    <tr>\n",
       "      <th>0</th>\n",
       "      <td>0.260386</td>\n",
       "      <td>1.638624</td>\n",
       "      <td>-1.141988</td>\n",
       "      <td>1.969796</td>\n",
       "      <td>1.119196</td>\n",
       "      <td>-1.011241</td>\n",
       "      <td>-2.409406</td>\n",
       "      <td>-0.764254</td>\n",
       "      <td>2.302295</td>\n",
       "      <td>1.738996</td>\n",
       "      <td>0</td>\n",
       "    </tr>\n",
       "    <tr>\n",
       "      <th>1</th>\n",
       "      <td>-0.122900</td>\n",
       "      <td>0.335166</td>\n",
       "      <td>-0.219241</td>\n",
       "      <td>1.012310</td>\n",
       "      <td>0.166213</td>\n",
       "      <td>-1.471569</td>\n",
       "      <td>-1.662857</td>\n",
       "      <td>0.755062</td>\n",
       "      <td>1.422580</td>\n",
       "      <td>2.107790</td>\n",
       "      <td>0</td>\n",
       "    </tr>\n",
       "    <tr>\n",
       "      <th>2</th>\n",
       "      <td>0.075359</td>\n",
       "      <td>1.042464</td>\n",
       "      <td>-3.515688</td>\n",
       "      <td>0.658317</td>\n",
       "      <td>-0.652174</td>\n",
       "      <td>1.556650</td>\n",
       "      <td>-1.637168</td>\n",
       "      <td>-2.655323</td>\n",
       "      <td>1.120715</td>\n",
       "      <td>-2.551670</td>\n",
       "      <td>0</td>\n",
       "    </tr>\n",
       "    <tr>\n",
       "      <th>3</th>\n",
       "      <td>-0.534483</td>\n",
       "      <td>1.402123</td>\n",
       "      <td>1.560085</td>\n",
       "      <td>3.692990</td>\n",
       "      <td>-0.531510</td>\n",
       "      <td>0.517167</td>\n",
       "      <td>1.322915</td>\n",
       "      <td>3.723571</td>\n",
       "      <td>-2.238932</td>\n",
       "      <td>1.813210</td>\n",
       "      <td>0</td>\n",
       "    </tr>\n",
       "    <tr>\n",
       "      <th>4</th>\n",
       "      <td>0.609900</td>\n",
       "      <td>0.180381</td>\n",
       "      <td>-1.987982</td>\n",
       "      <td>0.893133</td>\n",
       "      <td>-1.666823</td>\n",
       "      <td>0.416919</td>\n",
       "      <td>-2.824688</td>\n",
       "      <td>0.378468</td>\n",
       "      <td>2.013417</td>\n",
       "      <td>1.510918</td>\n",
       "      <td>0</td>\n",
       "    </tr>\n",
       "  </tbody>\n",
       "</table>\n",
       "</div>"
      ],
      "text/plain": [
       "   feature0  feature1  feature2  feature3  feature4  feature5  feature6  \\\n",
       "0  0.260386  1.638624 -1.141988  1.969796  1.119196 -1.011241 -2.409406   \n",
       "1 -0.122900  0.335166 -0.219241  1.012310  0.166213 -1.471569 -1.662857   \n",
       "2  0.075359  1.042464 -3.515688  0.658317 -0.652174  1.556650 -1.637168   \n",
       "3 -0.534483  1.402123  1.560085  3.692990 -0.531510  0.517167  1.322915   \n",
       "4  0.609900  0.180381 -1.987982  0.893133 -1.666823  0.416919 -2.824688   \n",
       "\n",
       "   feature7  feature8  feature9  label  \n",
       "0 -0.764254  2.302295  1.738996      0  \n",
       "1  0.755062  1.422580  2.107790      0  \n",
       "2 -2.655323  1.120715 -2.551670      0  \n",
       "3  3.723571 -2.238932  1.813210      0  \n",
       "4  0.378468  2.013417  1.510918      0  "
      ]
     },
     "execution_count": 4,
     "metadata": {},
     "output_type": "execute_result"
    }
   ],
   "source": [
    "# using synthetic data for to simulate fraud detection scenario\n",
    "X,y = make_classification(n_samples=10000,n_features=10,\n",
    "                          n_informative=5,n_redundant=2,\n",
    "                          n_clusters_per_class=1,\n",
    "                          weights=[0.95],flip_y=0.01,random_state=42)\n",
    "\n",
    "df = pd.DataFrame(X,columns=[f'feature{i}'for i in range(X.shape[1])])\n",
    "df['label'] = y\n",
    "df.head()"
   ]
  },
  {
   "cell_type": "code",
   "execution_count": 6,
   "id": "8950d9e8",
   "metadata": {},
   "outputs": [
    {
     "name": "stdout",
     "output_type": "stream",
     "text": [
      "              precision    recall  f1-score   support\n",
      "\n",
      "           0       0.99      1.00      0.99      1891\n",
      "           1       1.00      0.79      0.88       109\n",
      "\n",
      "    accuracy                           0.99      2000\n",
      "   macro avg       0.99      0.89      0.94      2000\n",
      "weighted avg       0.99      0.99      0.99      2000\n",
      "\n"
     ]
    }
   ],
   "source": [
    "from sklearn.model_selection import train_test_split\n",
    "from sklearn.ensemble import RandomForestClassifier\n",
    "from sklearn.metrics import classification_report\n",
    "\n",
    "X=df.drop(\"label\",axis=1)\n",
    "y=df[\"label\"]\n",
    "\n",
    "X_train,X_test,y_train,y_test=train_test_split(X,y,stratify=y,test_size=0.2,random_state=42)\n",
    "\n",
    "\n",
    "model = RandomForestClassifier(n_estimators=100,random_state=42)\n",
    "model.fit(X_train,y_train)\n",
    "\n",
    "y_pred = model.predict(X_test)\n",
    "print(classification_report(y_test,y_pred))\n",
    "\n",
    "\n"
   ]
  },
  {
   "cell_type": "code",
   "execution_count": 1,
   "id": "f460847d",
   "metadata": {},
   "outputs": [
    {
     "ename": "NameError",
     "evalue": "name 'model' is not defined",
     "output_type": "error",
     "traceback": [
      "\u001b[1;31m---------------------------------------------------------------------------\u001b[0m",
      "\u001b[1;31mNameError\u001b[0m                                 Traceback (most recent call last)",
      "Cell \u001b[1;32mIn[1], line 5\u001b[0m\n\u001b[0;32m      2\u001b[0m \u001b[38;5;28;01mimport\u001b[39;00m\u001b[38;5;250m \u001b[39m\u001b[38;5;21;01mos\u001b[39;00m\n\u001b[0;32m      4\u001b[0m os\u001b[38;5;241m.\u001b[39mmakedirs(\u001b[38;5;124m\"\u001b[39m\u001b[38;5;124m../models\u001b[39m\u001b[38;5;124m\"\u001b[39m,exist_ok\u001b[38;5;241m=\u001b[39m\u001b[38;5;28;01mTrue\u001b[39;00m)\n\u001b[1;32m----> 5\u001b[0m joblib\u001b[38;5;241m.\u001b[39mdump(\u001b[43mmodel\u001b[49m,\u001b[38;5;124m\"\u001b[39m\u001b[38;5;124m../models/fraud_model.pkl\u001b[39m\u001b[38;5;124m\"\u001b[39m)\n\u001b[0;32m      7\u001b[0m \u001b[38;5;28;01mwith\u001b[39;00m \u001b[38;5;28mopen\u001b[39m(\u001b[38;5;124m\"\u001b[39m\u001b[38;5;124m../models/features.txt\u001b[39m\u001b[38;5;124m\"\u001b[39m,\u001b[38;5;124m\"\u001b[39m\u001b[38;5;124mw\u001b[39m\u001b[38;5;124m\"\u001b[39m) \u001b[38;5;28;01mas\u001b[39;00m f:\n\u001b[0;32m      8\u001b[0m     \u001b[38;5;28;01mfor\u001b[39;00m col \u001b[38;5;129;01min\u001b[39;00m X\u001b[38;5;241m.\u001b[39mcolumns:\n",
      "\u001b[1;31mNameError\u001b[0m: name 'model' is not defined"
     ]
    }
   ],
   "source": [
    "import joblib\n",
    "import os\n",
    "\n",
    "os.makedirs(\"../models\",exist_ok=True)\n",
    "joblib.dump(model,\"../models/fraud_model.pkl\")\n",
    "\n",
    "with open(\"../models/features.txt\",\"w\") as f:\n",
    "    for col in X.columns:\n",
    "        f.write(f\"{col}\\n\")\n",
    "        "
   ]
  },
  {
   "cell_type": "code",
   "execution_count": null,
   "id": "98de5d1c",
   "metadata": {},
   "outputs": [],
   "source": []
  }
 ],
 "metadata": {
  "kernelspec": {
   "display_name": "envApp",
   "language": "python",
   "name": "python3"
  },
  "language_info": {
   "codemirror_mode": {
    "name": "ipython",
    "version": 3
   },
   "file_extension": ".py",
   "mimetype": "text/x-python",
   "name": "python",
   "nbconvert_exporter": "python",
   "pygments_lexer": "ipython3",
   "version": "3.10.11"
  }
 },
 "nbformat": 4,
 "nbformat_minor": 5
}
